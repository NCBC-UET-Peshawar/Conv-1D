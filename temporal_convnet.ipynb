{
  "nbformat": 4,
  "nbformat_minor": 0,
  "metadata": {
    "colab": {
      "name": "temporal convnet",
      "provenance": [],
      "collapsed_sections": [],
      "toc_visible": true
    },
    "kernelspec": {
      "name": "python3",
      "display_name": "Python 3"
    }
  },
  "cells": [
    {
      "cell_type": "code",
      "metadata": {
        "id": "gFIe-anbObz7"
      },
      "source": [
        "import os\n",
        "import numpy as np\n",
        "import matplotlib.pyplot as plt\n",
        "import pandas as pd\n",
        "\n",
        "from keras.models import *\n",
        "from keras.layers import *\n",
        "from keras.optimizers import *\n",
        "from keras.initializers import he_normal\n",
        "from keras.regularizers import l2\n",
        "from sklearn.model_selection import train_test_split, StratifiedKFold\n",
        "from sklearn import preprocessing\n",
        "from sklearn.metrics import f1_score\n",
        "from sklearn import metrics\n",
        "from sklearn.preprocessing import normalize, MinMaxScaler, StandardScaler\n",
        "from keras.utils import np_utils\n",
        "from keras.callbacks import EarlyStopping, ModelCheckpoint, ReduceLROnPlateau\n",
        "from keras.layers.merge import concatenate\n",
        "np.set_printoptions(suppress=True)"
      ],
      "execution_count": null,
      "outputs": []
    },
    {
      "cell_type": "code",
      "metadata": {
        "id": "Hq4pkiEiOlWy"
      },
      "source": [
        "df = pd.read_csv('/content/drive/MyDrive/Tobacco_Project/Dataset CSV/Samples_Dataset_5Classes.csv')\n",
        "df.columns = df.columns.str.rstrip()\n",
        "df.columns = df.columns.str.replace(' ', '')\n",
        "df['Label'] = df['Label'].str.strip()\n"
      ],
      "execution_count": null,
      "outputs": []
    },
    {
      "cell_type": "code",
      "metadata": {
        "id": "AQor8YTxyvLd"
      },
      "source": [
        "df1 = pd.read_csv('/content/drive/MyDrive/Tobacco_Project/Dataset CSV/BunerCSVForest (1).csv')\r\n",
        "df1.columns = df1.columns.str.rstrip()\r\n",
        "df1.columns = df1.columns.str.replace(' ', '')\r\n",
        "X1 = df1[[\"B1\", \"B2\", \"B3\", \"B4\", \"B5\", \"B6\", \"B7\", \"B8\", \"B9\", \"B10\", \"B11\", \"B12\", \"B13\", \"B14\", \"B15\", \"B16\", \"B17\", \"B18\", \"B19\", \"B20\"]].values"
      ],
      "execution_count": null,
      "outputs": []
    },
    {
      "cell_type": "code",
      "metadata": {
        "id": "0YZhQTL_O3TQ"
      },
      "source": [
        "Y =  np.concatenate((Y, newlabels), axis = 0)\n",
        "X = preprocessing.normalize(X)"
      ],
      "execution_count": null,
      "outputs": []
    },
    {
      "cell_type": "code",
      "metadata": {
        "colab": {
          "base_uri": "https://localhost:8080/",
          "height": 185
        },
        "id": "mz-0NEIsEsSU",
        "collapsed": true,
        "outputId": "33f9bcad-7e34-45ef-cd49-d83d072194a0"
      },
      "source": [
        "X=X.reshape(X.shape[0], int(X.shape[1]/4), 4)"
      ],
      "execution_count": null,
      "outputs": [
        {
          "output_type": "error",
          "ename": "ValueError",
          "evalue": "ignored",
          "traceback": [
            "\u001b[0;31m---------------------------------------------------------------------------\u001b[0m",
            "\u001b[0;31mValueError\u001b[0m                                Traceback (most recent call last)",
            "\u001b[0;32m<ipython-input-12-263ef1dc7c3b>\u001b[0m in \u001b[0;36m<module>\u001b[0;34m()\u001b[0m\n\u001b[0;32m----> 1\u001b[0;31m \u001b[0mX\u001b[0m\u001b[0;34m=\u001b[0m\u001b[0mX\u001b[0m\u001b[0;34m.\u001b[0m\u001b[0mreshape\u001b[0m\u001b[0;34m(\u001b[0m\u001b[0mX\u001b[0m\u001b[0;34m.\u001b[0m\u001b[0mshape\u001b[0m\u001b[0;34m[\u001b[0m\u001b[0;36m0\u001b[0m\u001b[0;34m]\u001b[0m\u001b[0;34m,\u001b[0m \u001b[0mint\u001b[0m\u001b[0;34m(\u001b[0m\u001b[0mX\u001b[0m\u001b[0;34m.\u001b[0m\u001b[0mshape\u001b[0m\u001b[0;34m[\u001b[0m\u001b[0;36m1\u001b[0m\u001b[0;34m]\u001b[0m\u001b[0;34m/\u001b[0m\u001b[0;36m4\u001b[0m\u001b[0;34m)\u001b[0m\u001b[0;34m,\u001b[0m \u001b[0;36m4\u001b[0m\u001b[0;34m)\u001b[0m\u001b[0;34m\u001b[0m\u001b[0;34m\u001b[0m\u001b[0m\n\u001b[0m\u001b[1;32m      2\u001b[0m \u001b[0mX\u001b[0m\u001b[0;34m[\u001b[0m\u001b[0;36m0\u001b[0m\u001b[0;34m]\u001b[0m\u001b[0;34m\u001b[0m\u001b[0;34m\u001b[0m\u001b[0m\n",
            "\u001b[0;31mValueError\u001b[0m: cannot reshape array of size 5372200 into shape (268610,1,4)"
          ]
        }
      ]
    },
    {
      "cell_type": "code",
      "metadata": {
        "id": "N8adUoc6O7wl"
      },
      "source": [
        "X_train, X_test, Y_train, Y_test = train_test_split(X, Y, test_size=0.20, random_state=42)"
      ],
      "execution_count": null,
      "outputs": []
    },
    {
      "cell_type": "code",
      "metadata": {
        "colab": {
          "base_uri": "https://localhost:8080/"
        },
        "id": "tbp3drqc4QlD",
        "outputId": "48ab8f65-1274-43d2-b721-22bd59f36c2a"
      },
      "source": [
        "np.unique(Y, return_counts=True)"
      ],
      "execution_count": null,
      "outputs": [
        {
          "output_type": "execute_result",
          "data": {
            "text/plain": [
              "(array([0., 1., 2., 3., 4., 5., 6.]),\n",
              " array([ 28664,  32814,  68292,   4769,  10254,   3740, 120077]))"
            ]
          },
          "metadata": {
            "tags": []
          },
          "execution_count": 13
        }
      ]
    },
    {
      "cell_type": "code",
      "metadata": {
        "id": "U695yhMIPG7n"
      },
      "source": [
        "X_train=X_train.reshape(X_train.shape[0], int(X_train.shape[1]/5), 5)\n",
        "X_test=X_test.reshape(X_test.shape[0], int(X_test.shape[1]/5), 5)"
      ],
      "execution_count": null,
      "outputs": []
    },
    {
      "cell_type": "markdown",
      "metadata": {
        "id": "G27EFIYkVaar"
      },
      "source": [
        "# **InceptionResNet**"
      ]
    },
    {
      "cell_type": "markdown",
      "metadata": {
        "id": "De2d2pdaVtPB"
      },
      "source": [
        "# **Conv1D and Inception Layer**"
      ]
    },
    {
      "cell_type": "code",
      "metadata": {
        "id": "xswtIf3QrO10",
        "colab": {
          "base_uri": "https://localhost:8080/"
        },
        "outputId": "7d6c51ee-5391-43e5-dbeb-77e8ca1f36b6"
      },
      "source": [
        "inputs = Input(shape=(X_train.shape[1],X_train.shape[2]))\n",
        "\n",
        "\n",
        "incep_conv1 = Conv1D(32, kernel_size=1, padding='same', \n",
        "                     data_format = 'channels_first',strides = 1)(inputs) # (4, 32)\n",
        "incep_conv3 = Conv1D(32, kernel_size=3, padding='same', \n",
        "                     data_format = 'channels_first',strides = 1)(inputs) # (4, 32)\n",
        "incep_conv5 = Conv1D(32, kernel_size=5, padding='same', \n",
        "                     data_format = 'channels_first',strides = 1)(inputs) # (4, 32)\n",
        "inception_layer = concatenate([incep_conv1, incep_conv3, incep_conv5], axis=-1)\n",
        "\n",
        "# bn1 = BatchNormalization(axis=1)(inception_layer)\n",
        "act1 = Activation('relu')(inception_layer)\n",
        "d1 = Dropout(0.5)(act1)\n",
        "\n",
        "incep_conv1 = Conv1D(32, kernel_size=1, padding='same', \n",
        "                     data_format = 'channels_first',strides = 1)(d1) # (4, 32)\n",
        "incep_conv3 = Conv1D(32, kernel_size=3, padding='same', \n",
        "                     data_format = 'channels_first',strides = 1)(d1) # (4, 32)\n",
        "incep_conv5 = Conv1D(32, kernel_size=5, padding='same',\n",
        "                     data_format = 'channels_first', strides = 1)(d1) # (4, 32)\n",
        "inception_layer2 = concatenate([incep_conv1, incep_conv3, incep_conv5], axis=-1)\n",
        "\n",
        "# bn2 = BatchNormalization(axis=1)(inception_layer2)\n",
        "act2 = Activation('relu')(inception_layer2)\n",
        "d2 = Dropout(0.5)(act2)\n",
        "\n",
        "incep_conv1 = Conv1D(32, kernel_size=1, padding='same', \n",
        "                     data_format = 'channels_first',strides = 1)(d2) # (4, 32)\n",
        "incep_conv3 = Conv1D(32, kernel_size=3, padding='same', \n",
        "                     data_format = 'channels_first',strides = 1)(d2) # (4, 32)\n",
        "incep_conv5 = Conv1D(32, kernel_size=5, padding='same', \n",
        "                     data_format = 'channels_first',strides = 1)(d2) # (4, 32)\n",
        "inception_layer3 = concatenate([incep_conv1, incep_conv3, incep_conv5], axis=-1)\n",
        "\n",
        "# bn3 = BatchNormalization(axis=1)(inception_layer3)\n",
        "act3 = Activation('relu')(inception_layer3)\n",
        "d3 = Dropout(0.5)(act3)\n",
        "\n",
        "flat = Flatten()(d3)\n",
        "\n",
        "dense = Dense(64, kernel_initializer = he_normal(), kernel_regularizer = l2(1.e-6))(flat)\n",
        "# bn = BatchNormalization(axis=-1)(dense)\n",
        "act = Activation('relu')(dense)\n",
        "drop4 = Dropout(0.5) (act)\n",
        "\n",
        "output = Dense(units=7, activation='softmax', kernel_initializer = he_normal(), kernel_regularizer = l2(1.e-6))(drop4)\n",
        "\n",
        "model = Model(inputs=inputs, outputs=output)\n",
        "\n",
        "model.compile(loss='sparse_categorical_crossentropy',\n",
        "            optimizer='adam',\n",
        "            metrics=['accuracy'], )\n",
        "\n",
        "model.summary()"
      ],
      "execution_count": null,
      "outputs": [
        {
          "output_type": "stream",
          "text": [
            "Model: \"model\"\n",
            "__________________________________________________________________________________________________\n",
            "Layer (type)                    Output Shape         Param #     Connected to                     \n",
            "==================================================================================================\n",
            "input_1 (InputLayer)            [(None, 4, 5)]       0                                            \n",
            "__________________________________________________________________________________________________\n",
            "conv1d (Conv1D)                 (None, 4, 32)        192         input_1[0][0]                    \n",
            "__________________________________________________________________________________________________\n",
            "conv1d_1 (Conv1D)               (None, 4, 32)        512         input_1[0][0]                    \n",
            "__________________________________________________________________________________________________\n",
            "conv1d_2 (Conv1D)               (None, 4, 32)        832         input_1[0][0]                    \n",
            "__________________________________________________________________________________________________\n",
            "concatenate (Concatenate)       (None, 4, 96)        0           conv1d[0][0]                     \n",
            "                                                                 conv1d_1[0][0]                   \n",
            "                                                                 conv1d_2[0][0]                   \n",
            "__________________________________________________________________________________________________\n",
            "activation (Activation)         (None, 4, 96)        0           concatenate[0][0]                \n",
            "__________________________________________________________________________________________________\n",
            "dropout (Dropout)               (None, 4, 96)        0           activation[0][0]                 \n",
            "__________________________________________________________________________________________________\n",
            "conv1d_3 (Conv1D)               (None, 4, 32)        3104        dropout[0][0]                    \n",
            "__________________________________________________________________________________________________\n",
            "conv1d_4 (Conv1D)               (None, 4, 32)        9248        dropout[0][0]                    \n",
            "__________________________________________________________________________________________________\n",
            "conv1d_5 (Conv1D)               (None, 4, 32)        15392       dropout[0][0]                    \n",
            "__________________________________________________________________________________________________\n",
            "concatenate_1 (Concatenate)     (None, 4, 96)        0           conv1d_3[0][0]                   \n",
            "                                                                 conv1d_4[0][0]                   \n",
            "                                                                 conv1d_5[0][0]                   \n",
            "__________________________________________________________________________________________________\n",
            "activation_1 (Activation)       (None, 4, 96)        0           concatenate_1[0][0]              \n",
            "__________________________________________________________________________________________________\n",
            "dropout_1 (Dropout)             (None, 4, 96)        0           activation_1[0][0]               \n",
            "__________________________________________________________________________________________________\n",
            "conv1d_6 (Conv1D)               (None, 4, 32)        3104        dropout_1[0][0]                  \n",
            "__________________________________________________________________________________________________\n",
            "conv1d_7 (Conv1D)               (None, 4, 32)        9248        dropout_1[0][0]                  \n",
            "__________________________________________________________________________________________________\n",
            "conv1d_8 (Conv1D)               (None, 4, 32)        15392       dropout_1[0][0]                  \n",
            "__________________________________________________________________________________________________\n",
            "concatenate_2 (Concatenate)     (None, 4, 96)        0           conv1d_6[0][0]                   \n",
            "                                                                 conv1d_7[0][0]                   \n",
            "                                                                 conv1d_8[0][0]                   \n",
            "__________________________________________________________________________________________________\n",
            "activation_2 (Activation)       (None, 4, 96)        0           concatenate_2[0][0]              \n",
            "__________________________________________________________________________________________________\n",
            "dropout_2 (Dropout)             (None, 4, 96)        0           activation_2[0][0]               \n",
            "__________________________________________________________________________________________________\n",
            "flatten (Flatten)               (None, 384)          0           dropout_2[0][0]                  \n",
            "__________________________________________________________________________________________________\n",
            "dense (Dense)                   (None, 64)           24640       flatten[0][0]                    \n",
            "__________________________________________________________________________________________________\n",
            "activation_3 (Activation)       (None, 64)           0           dense[0][0]                      \n",
            "__________________________________________________________________________________________________\n",
            "dropout_3 (Dropout)             (None, 64)           0           activation_3[0][0]               \n",
            "__________________________________________________________________________________________________\n",
            "dense_1 (Dense)                 (None, 7)            455         dropout_3[0][0]                  \n",
            "==================================================================================================\n",
            "Total params: 82,119\n",
            "Trainable params: 82,119\n",
            "Non-trainable params: 0\n",
            "__________________________________________________________________________________________________\n"
          ],
          "name": "stdout"
        }
      ]
    },
    {
      "cell_type": "code",
      "metadata": {
        "id": "spgvCIm59Unh",
        "colab": {
          "base_uri": "https://localhost:8080/"
        },
        "outputId": "702b453e-5304-44b9-dc02-828681241bb2"
      },
      "source": [
        "from sklearn.utils import class_weight\n",
        "class_weights = class_weight.compute_class_weight('balanced',\n",
        "                                                 np.unique(Y_train),\n",
        "                                                 Y_train)\n",
        "class_weights = dict(enumerate(class_weights))\n",
        "\n",
        "print(class_weights)\n",
        "history=model.fit(X_train, \n",
        "          Y_train,\n",
        "          epochs=10,\n",
        "          batch_size=64,\n",
        "          class_weight=class_weights,\n",
        "          validation_data = (X_test, Y_test),\n",
        "          verbose=2,\n",
        "          )"
      ],
      "execution_count": null,
      "outputs": [
        {
          "output_type": "stream",
          "text": [
            "{0: 1.3390746222152983, 1: 1.1678124439565456, 2: 0.561663599866176, 3: 8.042516561248549, 4: 3.7178497897887506, 5: 10.205547112462007, 6: 0.31998046357320054}\n",
            "Epoch 1/10\n",
            "3358/3358 - 22s - loss: 0.5203 - accuracy: 0.8193 - val_loss: 0.2790 - val_accuracy: 0.8946\n",
            "Epoch 2/10\n",
            "3358/3358 - 14s - loss: 0.3060 - accuracy: 0.8803 - val_loss: 0.2330 - val_accuracy: 0.9085\n",
            "Epoch 3/10\n",
            "3358/3358 - 14s - loss: 0.2686 - accuracy: 0.8957 - val_loss: 0.2136 - val_accuracy: 0.9200\n",
            "Epoch 4/10\n",
            "3358/3358 - 14s - loss: 0.2474 - accuracy: 0.9040 - val_loss: 0.1884 - val_accuracy: 0.9312\n",
            "Epoch 5/10\n",
            "3358/3358 - 14s - loss: 0.2374 - accuracy: 0.9080 - val_loss: 0.1814 - val_accuracy: 0.9346\n",
            "Epoch 6/10\n",
            "3358/3358 - 14s - loss: 0.2314 - accuracy: 0.9112 - val_loss: 0.1803 - val_accuracy: 0.9327\n",
            "Epoch 7/10\n",
            "3358/3358 - 14s - loss: 0.2240 - accuracy: 0.9139 - val_loss: 0.1620 - val_accuracy: 0.9418\n",
            "Epoch 8/10\n",
            "3358/3358 - 14s - loss: 0.2179 - accuracy: 0.9161 - val_loss: 0.1646 - val_accuracy: 0.9391\n",
            "Epoch 9/10\n",
            "3358/3358 - 14s - loss: 0.2098 - accuracy: 0.9183 - val_loss: 0.1495 - val_accuracy: 0.9440\n",
            "Epoch 10/10\n",
            "3358/3358 - 14s - loss: 0.2067 - accuracy: 0.9204 - val_loss: 0.1581 - val_accuracy: 0.9409\n"
          ],
          "name": "stdout"
        }
      ]
    },
    {
      "cell_type": "code",
      "metadata": {
        "id": "DZNrvVxjevCZ",
        "colab": {
          "base_uri": "https://localhost:8080/",
          "height": 295
        },
        "outputId": "0d86ead4-a476-4d5e-dbfd-cfc18d9ccba7"
      },
      "source": [
        "# summarize history for accuracy\n",
        "plt.plot(history.history['accuracy'])\n",
        "plt.plot(history.history['val_accuracy'])\n",
        "plt.title('model accuracy')\n",
        "plt.ylabel('accuracy')\n",
        "plt.xlabel('epoch')\n",
        "plt.legend(['train', 'test'], loc='lower right')\n",
        "plt.show()"
      ],
      "execution_count": null,
      "outputs": [
        {
          "output_type": "display_data",
          "data": {
            "image/png": "[encoded data removed]",
            "text/plain": [
              "<Figure size 432x288 with 1 Axes>"
            ]
          },
          "metadata": {
            "tags": [],
            "needs_background": "light"
          }
        }
      ]
    },
    {
      "cell_type": "code",
      "metadata": {
        "id": "oNsITPQJexs4",
        "colab": {
          "base_uri": "https://localhost:8080/",
          "height": 295
        },
        "outputId": "02942b14-377f-4b4e-bda5-614c33901549"
      },
      "source": [
        "# summarize history for loss\n",
        "plt.plot(history.history['loss'])\n",
        "plt.plot(history.history['val_loss'])\n",
        "plt.title('model loss')\n",
        "plt.ylabel('loss')\n",
        "plt.xlabel('epoch')\n",
        "plt.legend(['train', 'test'], loc='upper right')\n",
        "plt.show()"
      ],
      "execution_count": null,
      "outputs": [
        {
          "output_type": "display_data",
          "data": {
            "image/png": "[encoded data removed]",
            "text/plain": [
              "<Figure size 432x288 with 1 Axes>"
            ]
          },
          "metadata": {
            "tags": [],
            "needs_background": "light"
          }
        }
      ]
    },
    {
      "cell_type": "code",
      "metadata": {
        "id": "-qsi-a4p0M1a"
      },
      "source": [
        "model_json = model.to_json()\n",
        "model.save_weights('./conv1D_temporal_increased.h5')\n",
        "\n",
        "with open('./conv1D_temporal_increased.json', 'w') as f:\n",
        "    f.write(model.to_json())"
      ],
      "execution_count": null,
      "outputs": []
    }
  ]
}